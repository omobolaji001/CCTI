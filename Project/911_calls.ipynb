{
 "cells": [
  {
   "cell_type": "code",
   "execution_count": 1,
   "id": "0928b227",
   "metadata": {},
   "outputs": [],
   "source": [
    "import numpy as np\n",
    "import pandas as pd\n",
    "import matplotlib\n",
    "import matplotlib.pyplot as plt\n",
    "import seaborn as sns\n",
    "%matplotlib inline"
   ]
  },
  {
   "cell_type": "code",
   "execution_count": 2,
   "id": "27dd5da1",
   "metadata": {},
   "outputs": [],
   "source": [
    "data = pd.read_csv('C:/DataSets/911_calls.csv')"
   ]
  },
  {
   "cell_type": "markdown",
   "id": "0f4c0874",
   "metadata": {},
   "source": [
    "## Data Cleaning and Preparation"
   ]
  },
  {
   "cell_type": "code",
   "execution_count": 3,
   "id": "9c44927c",
   "metadata": {},
   "outputs": [
    {
     "name": "stdout",
     "output_type": "stream",
     "text": [
      "<class 'pandas.core.frame.DataFrame'>\n",
      "RangeIndex: 99492 entries, 0 to 99491\n",
      "Data columns (total 9 columns):\n",
      " #   Column     Non-Null Count  Dtype  \n",
      "---  ------     --------------  -----  \n",
      " 0   lat        99492 non-null  float64\n",
      " 1   lng        99492 non-null  float64\n",
      " 2   desc       99492 non-null  object \n",
      " 3   zip        86637 non-null  float64\n",
      " 4   title      99492 non-null  object \n",
      " 5   timeStamp  99492 non-null  object \n",
      " 6   twp        99449 non-null  object \n",
      " 7   addr       98973 non-null  object \n",
      " 8   e          99492 non-null  int64  \n",
      "dtypes: float64(3), int64(1), object(5)\n",
      "memory usage: 6.8+ MB\n"
     ]
    }
   ],
   "source": [
    "data.info()"
   ]
  },
  {
   "cell_type": "code",
   "execution_count": 4,
   "id": "4dd2deb0",
   "metadata": {},
   "outputs": [
    {
     "data": {
      "text/html": [
       "<div>\n",
       "<style scoped>\n",
       "    .dataframe tbody tr th:only-of-type {\n",
       "        vertical-align: middle;\n",
       "    }\n",
       "\n",
       "    .dataframe tbody tr th {\n",
       "        vertical-align: top;\n",
       "    }\n",
       "\n",
       "    .dataframe thead th {\n",
       "        text-align: right;\n",
       "    }\n",
       "</style>\n",
       "<table border=\"1\" class=\"dataframe\">\n",
       "  <thead>\n",
       "    <tr style=\"text-align: right;\">\n",
       "      <th></th>\n",
       "      <th>lat</th>\n",
       "      <th>lng</th>\n",
       "      <th>desc</th>\n",
       "      <th>zip</th>\n",
       "      <th>title</th>\n",
       "      <th>timeStamp</th>\n",
       "      <th>twp</th>\n",
       "      <th>addr</th>\n",
       "      <th>e</th>\n",
       "    </tr>\n",
       "  </thead>\n",
       "  <tbody>\n",
       "    <tr>\n",
       "      <th>0</th>\n",
       "      <td>40.297876</td>\n",
       "      <td>-75.581294</td>\n",
       "      <td>REINDEER CT &amp; DEAD END;  NEW HANOVER; Station ...</td>\n",
       "      <td>19525.0</td>\n",
       "      <td>EMS: BACK PAINS/INJURY</td>\n",
       "      <td>2015-12-10 17:40:00</td>\n",
       "      <td>NEW HANOVER</td>\n",
       "      <td>REINDEER CT &amp; DEAD END</td>\n",
       "      <td>1</td>\n",
       "    </tr>\n",
       "    <tr>\n",
       "      <th>1</th>\n",
       "      <td>40.258061</td>\n",
       "      <td>-75.264680</td>\n",
       "      <td>BRIAR PATH &amp; WHITEMARSH LN;  HATFIELD TOWNSHIP...</td>\n",
       "      <td>19446.0</td>\n",
       "      <td>EMS: DIABETIC EMERGENCY</td>\n",
       "      <td>2015-12-10 17:40:00</td>\n",
       "      <td>HATFIELD TOWNSHIP</td>\n",
       "      <td>BRIAR PATH &amp; WHITEMARSH LN</td>\n",
       "      <td>1</td>\n",
       "    </tr>\n",
       "    <tr>\n",
       "      <th>2</th>\n",
       "      <td>40.121182</td>\n",
       "      <td>-75.351975</td>\n",
       "      <td>HAWS AVE; NORRISTOWN; 2015-12-10 @ 14:39:21-St...</td>\n",
       "      <td>19401.0</td>\n",
       "      <td>Fire: GAS-ODOR/LEAK</td>\n",
       "      <td>2015-12-10 17:40:00</td>\n",
       "      <td>NORRISTOWN</td>\n",
       "      <td>HAWS AVE</td>\n",
       "      <td>1</td>\n",
       "    </tr>\n",
       "    <tr>\n",
       "      <th>3</th>\n",
       "      <td>40.116153</td>\n",
       "      <td>-75.343513</td>\n",
       "      <td>AIRY ST &amp; SWEDE ST;  NORRISTOWN; Station 308A;...</td>\n",
       "      <td>19401.0</td>\n",
       "      <td>EMS: CARDIAC EMERGENCY</td>\n",
       "      <td>2015-12-10 17:40:01</td>\n",
       "      <td>NORRISTOWN</td>\n",
       "      <td>AIRY ST &amp; SWEDE ST</td>\n",
       "      <td>1</td>\n",
       "    </tr>\n",
       "    <tr>\n",
       "      <th>4</th>\n",
       "      <td>40.251492</td>\n",
       "      <td>-75.603350</td>\n",
       "      <td>CHERRYWOOD CT &amp; DEAD END;  LOWER POTTSGROVE; S...</td>\n",
       "      <td>NaN</td>\n",
       "      <td>EMS: DIZZINESS</td>\n",
       "      <td>2015-12-10 17:40:01</td>\n",
       "      <td>LOWER POTTSGROVE</td>\n",
       "      <td>CHERRYWOOD CT &amp; DEAD END</td>\n",
       "      <td>1</td>\n",
       "    </tr>\n",
       "  </tbody>\n",
       "</table>\n",
       "</div>"
      ],
      "text/plain": [
       "         lat        lng                                               desc  \\\n",
       "0  40.297876 -75.581294  REINDEER CT & DEAD END;  NEW HANOVER; Station ...   \n",
       "1  40.258061 -75.264680  BRIAR PATH & WHITEMARSH LN;  HATFIELD TOWNSHIP...   \n",
       "2  40.121182 -75.351975  HAWS AVE; NORRISTOWN; 2015-12-10 @ 14:39:21-St...   \n",
       "3  40.116153 -75.343513  AIRY ST & SWEDE ST;  NORRISTOWN; Station 308A;...   \n",
       "4  40.251492 -75.603350  CHERRYWOOD CT & DEAD END;  LOWER POTTSGROVE; S...   \n",
       "\n",
       "       zip                    title            timeStamp                twp  \\\n",
       "0  19525.0   EMS: BACK PAINS/INJURY  2015-12-10 17:40:00        NEW HANOVER   \n",
       "1  19446.0  EMS: DIABETIC EMERGENCY  2015-12-10 17:40:00  HATFIELD TOWNSHIP   \n",
       "2  19401.0      Fire: GAS-ODOR/LEAK  2015-12-10 17:40:00         NORRISTOWN   \n",
       "3  19401.0   EMS: CARDIAC EMERGENCY  2015-12-10 17:40:01         NORRISTOWN   \n",
       "4      NaN           EMS: DIZZINESS  2015-12-10 17:40:01   LOWER POTTSGROVE   \n",
       "\n",
       "                         addr  e  \n",
       "0      REINDEER CT & DEAD END  1  \n",
       "1  BRIAR PATH & WHITEMARSH LN  1  \n",
       "2                    HAWS AVE  1  \n",
       "3          AIRY ST & SWEDE ST  1  \n",
       "4    CHERRYWOOD CT & DEAD END  1  "
      ]
     },
     "execution_count": 4,
     "metadata": {},
     "output_type": "execute_result"
    }
   ],
   "source": [
    "data.head()"
   ]
  },
  {
   "cell_type": "code",
   "execution_count": 5,
   "id": "35e37c25",
   "metadata": {},
   "outputs": [],
   "source": [
    "# converting the timeStamp column to pandas datetime dtype instead of the initial object dtype\n",
    "data.timeStamp = pd.to_datetime(data.timeStamp)"
   ]
  },
  {
   "cell_type": "code",
   "execution_count": 6,
   "id": "8815b368",
   "metadata": {},
   "outputs": [
    {
     "data": {
      "text/plain": [
       "0       2015-12-10 17:40:00\n",
       "1       2015-12-10 17:40:00\n",
       "2       2015-12-10 17:40:00\n",
       "3       2015-12-10 17:40:01\n",
       "4       2015-12-10 17:40:01\n",
       "                ...        \n",
       "99487   2016-08-24 11:06:00\n",
       "99488   2016-08-24 11:07:02\n",
       "99489   2016-08-24 11:12:00\n",
       "99490   2016-08-24 11:17:01\n",
       "99491   2016-08-24 11:17:02\n",
       "Name: timeStamp, Length: 99492, dtype: datetime64[ns]"
      ]
     },
     "execution_count": 6,
     "metadata": {},
     "output_type": "execute_result"
    }
   ],
   "source": [
    "# filling the NaN in the timeStamp column with the previous time before the NaN\n",
    "data.timeStamp.fillna(method = 'ffill')"
   ]
  },
  {
   "cell_type": "raw",
   "id": "950723b0",
   "metadata": {},
   "source": [
    "After filling the missing data of the timeStamp column, the columns left with missing data are zip, twp, and addr which are categorized as addresses. Since we cannot fill the addresses with the address of another call for it not to jeopardize our analysis, it is advisable to drop the missing data."
   ]
  },
  {
   "cell_type": "code",
   "execution_count": 7,
   "id": "ebbdf7eb",
   "metadata": {},
   "outputs": [],
   "source": [
    "data.dropna(how = 'any', inplace = True)"
   ]
  },
  {
   "cell_type": "code",
   "execution_count": 8,
   "id": "bbce2a59",
   "metadata": {},
   "outputs": [
    {
     "name": "stdout",
     "output_type": "stream",
     "text": [
      "<class 'pandas.core.frame.DataFrame'>\n",
      "Int64Index: 86576 entries, 0 to 99491\n",
      "Data columns (total 9 columns):\n",
      " #   Column     Non-Null Count  Dtype         \n",
      "---  ------     --------------  -----         \n",
      " 0   lat        86576 non-null  float64       \n",
      " 1   lng        86576 non-null  float64       \n",
      " 2   desc       86576 non-null  object        \n",
      " 3   zip        86576 non-null  float64       \n",
      " 4   title      86576 non-null  object        \n",
      " 5   timeStamp  86576 non-null  datetime64[ns]\n",
      " 6   twp        86576 non-null  object        \n",
      " 7   addr       86576 non-null  object        \n",
      " 8   e          86576 non-null  int64         \n",
      "dtypes: datetime64[ns](1), float64(3), int64(1), object(4)\n",
      "memory usage: 6.6+ MB\n"
     ]
    }
   ],
   "source": [
    "data.info()"
   ]
  },
  {
   "cell_type": "markdown",
   "id": "8b2cbdb3",
   "metadata": {},
   "source": [
    "The lng, lat and zip column is more of an object dtype rather than the float dtype because they talk about location and therefore cannot be used for mathematical calculations. It is advisable to convert them to object dtype."
   ]
  },
  {
   "cell_type": "code",
   "execution_count": 9,
   "id": "e4c5d5ba",
   "metadata": {},
   "outputs": [],
   "source": [
    "data.lng = data.lng.astype('object')"
   ]
  },
  {
   "cell_type": "code",
   "execution_count": 10,
   "id": "de68d0d9",
   "metadata": {},
   "outputs": [],
   "source": [
    "data.lat = data.lat.astype('object')"
   ]
  },
  {
   "cell_type": "code",
   "execution_count": 11,
   "id": "2b568f5f",
   "metadata": {},
   "outputs": [],
   "source": [
    "data.zip = data.zip.astype('object')"
   ]
  },
  {
   "cell_type": "code",
   "execution_count": 12,
   "id": "c1520500",
   "metadata": {},
   "outputs": [
    {
     "name": "stdout",
     "output_type": "stream",
     "text": [
      "<class 'pandas.core.frame.DataFrame'>\n",
      "Int64Index: 86576 entries, 0 to 99491\n",
      "Data columns (total 9 columns):\n",
      " #   Column     Non-Null Count  Dtype         \n",
      "---  ------     --------------  -----         \n",
      " 0   lat        86576 non-null  object        \n",
      " 1   lng        86576 non-null  object        \n",
      " 2   desc       86576 non-null  object        \n",
      " 3   zip        86576 non-null  object        \n",
      " 4   title      86576 non-null  object        \n",
      " 5   timeStamp  86576 non-null  datetime64[ns]\n",
      " 6   twp        86576 non-null  object        \n",
      " 7   addr       86576 non-null  object        \n",
      " 8   e          86576 non-null  int64         \n",
      "dtypes: datetime64[ns](1), int64(1), object(7)\n",
      "memory usage: 6.6+ MB\n"
     ]
    }
   ],
   "source": [
    "data.info()"
   ]
  },
  {
   "cell_type": "code",
   "execution_count": 13,
   "id": "a2ed2d08",
   "metadata": {},
   "outputs": [
    {
     "data": {
      "text/html": [
       "<div>\n",
       "<style scoped>\n",
       "    .dataframe tbody tr th:only-of-type {\n",
       "        vertical-align: middle;\n",
       "    }\n",
       "\n",
       "    .dataframe tbody tr th {\n",
       "        vertical-align: top;\n",
       "    }\n",
       "\n",
       "    .dataframe thead th {\n",
       "        text-align: right;\n",
       "    }\n",
       "</style>\n",
       "<table border=\"1\" class=\"dataframe\">\n",
       "  <thead>\n",
       "    <tr style=\"text-align: right;\">\n",
       "      <th></th>\n",
       "      <th>lat</th>\n",
       "      <th>lng</th>\n",
       "      <th>desc</th>\n",
       "      <th>zip</th>\n",
       "      <th>title</th>\n",
       "      <th>timeStamp</th>\n",
       "      <th>twp</th>\n",
       "      <th>addr</th>\n",
       "      <th>e</th>\n",
       "    </tr>\n",
       "  </thead>\n",
       "  <tbody>\n",
       "    <tr>\n",
       "      <th>0</th>\n",
       "      <td>40.297876</td>\n",
       "      <td>-75.581294</td>\n",
       "      <td>REINDEER CT &amp; DEAD END;  NEW HANOVER; Station ...</td>\n",
       "      <td>19525.0</td>\n",
       "      <td>EMS: BACK PAINS/INJURY</td>\n",
       "      <td>2015-12-10 17:40:00</td>\n",
       "      <td>NEW HANOVER</td>\n",
       "      <td>REINDEER CT &amp; DEAD END</td>\n",
       "      <td>1</td>\n",
       "    </tr>\n",
       "    <tr>\n",
       "      <th>1</th>\n",
       "      <td>40.258061</td>\n",
       "      <td>-75.26468</td>\n",
       "      <td>BRIAR PATH &amp; WHITEMARSH LN;  HATFIELD TOWNSHIP...</td>\n",
       "      <td>19446.0</td>\n",
       "      <td>EMS: DIABETIC EMERGENCY</td>\n",
       "      <td>2015-12-10 17:40:00</td>\n",
       "      <td>HATFIELD TOWNSHIP</td>\n",
       "      <td>BRIAR PATH &amp; WHITEMARSH LN</td>\n",
       "      <td>1</td>\n",
       "    </tr>\n",
       "    <tr>\n",
       "      <th>2</th>\n",
       "      <td>40.121182</td>\n",
       "      <td>-75.351975</td>\n",
       "      <td>HAWS AVE; NORRISTOWN; 2015-12-10 @ 14:39:21-St...</td>\n",
       "      <td>19401.0</td>\n",
       "      <td>Fire: GAS-ODOR/LEAK</td>\n",
       "      <td>2015-12-10 17:40:00</td>\n",
       "      <td>NORRISTOWN</td>\n",
       "      <td>HAWS AVE</td>\n",
       "      <td>1</td>\n",
       "    </tr>\n",
       "    <tr>\n",
       "      <th>3</th>\n",
       "      <td>40.116153</td>\n",
       "      <td>-75.343513</td>\n",
       "      <td>AIRY ST &amp; SWEDE ST;  NORRISTOWN; Station 308A;...</td>\n",
       "      <td>19401.0</td>\n",
       "      <td>EMS: CARDIAC EMERGENCY</td>\n",
       "      <td>2015-12-10 17:40:01</td>\n",
       "      <td>NORRISTOWN</td>\n",
       "      <td>AIRY ST &amp; SWEDE ST</td>\n",
       "      <td>1</td>\n",
       "    </tr>\n",
       "    <tr>\n",
       "      <th>5</th>\n",
       "      <td>40.253473</td>\n",
       "      <td>-75.283245</td>\n",
       "      <td>CANNON AVE &amp; W 9TH ST;  LANSDALE; Station 345;...</td>\n",
       "      <td>19446.0</td>\n",
       "      <td>EMS: HEAD INJURY</td>\n",
       "      <td>2015-12-10 17:40:01</td>\n",
       "      <td>LANSDALE</td>\n",
       "      <td>CANNON AVE &amp; W 9TH ST</td>\n",
       "      <td>1</td>\n",
       "    </tr>\n",
       "  </tbody>\n",
       "</table>\n",
       "</div>"
      ],
      "text/plain": [
       "         lat        lng                                               desc  \\\n",
       "0  40.297876 -75.581294  REINDEER CT & DEAD END;  NEW HANOVER; Station ...   \n",
       "1  40.258061  -75.26468  BRIAR PATH & WHITEMARSH LN;  HATFIELD TOWNSHIP...   \n",
       "2  40.121182 -75.351975  HAWS AVE; NORRISTOWN; 2015-12-10 @ 14:39:21-St...   \n",
       "3  40.116153 -75.343513  AIRY ST & SWEDE ST;  NORRISTOWN; Station 308A;...   \n",
       "5  40.253473 -75.283245  CANNON AVE & W 9TH ST;  LANSDALE; Station 345;...   \n",
       "\n",
       "       zip                    title           timeStamp                twp  \\\n",
       "0  19525.0   EMS: BACK PAINS/INJURY 2015-12-10 17:40:00        NEW HANOVER   \n",
       "1  19446.0  EMS: DIABETIC EMERGENCY 2015-12-10 17:40:00  HATFIELD TOWNSHIP   \n",
       "2  19401.0      Fire: GAS-ODOR/LEAK 2015-12-10 17:40:00         NORRISTOWN   \n",
       "3  19401.0   EMS: CARDIAC EMERGENCY 2015-12-10 17:40:01         NORRISTOWN   \n",
       "5  19446.0         EMS: HEAD INJURY 2015-12-10 17:40:01           LANSDALE   \n",
       "\n",
       "                         addr  e  \n",
       "0      REINDEER CT & DEAD END  1  \n",
       "1  BRIAR PATH & WHITEMARSH LN  1  \n",
       "2                    HAWS AVE  1  \n",
       "3          AIRY ST & SWEDE ST  1  \n",
       "5       CANNON AVE & W 9TH ST  1  "
      ]
     },
     "execution_count": 13,
     "metadata": {},
     "output_type": "execute_result"
    }
   ],
   "source": [
    "data.head()"
   ]
  },
  {
   "cell_type": "code",
   "execution_count": 14,
   "id": "848c1ed0",
   "metadata": {},
   "outputs": [],
   "source": [
    "# Grouping the emergency calls by the title\n",
    "title = data.groupby('title').sum()\n",
    "sorted_title = title.e.sort_values(ascending = False)\n",
    "sorted_title = pd.DataFrame(sorted_title)"
   ]
  },
  {
   "cell_type": "code",
   "execution_count": 15,
   "id": "6f2fff94",
   "metadata": {},
   "outputs": [
    {
     "data": {
      "text/html": [
       "<div>\n",
       "<style scoped>\n",
       "    .dataframe tbody tr th:only-of-type {\n",
       "        vertical-align: middle;\n",
       "    }\n",
       "\n",
       "    .dataframe tbody tr th {\n",
       "        vertical-align: top;\n",
       "    }\n",
       "\n",
       "    .dataframe thead th {\n",
       "        text-align: right;\n",
       "    }\n",
       "</style>\n",
       "<table border=\"1\" class=\"dataframe\">\n",
       "  <thead>\n",
       "    <tr style=\"text-align: right;\">\n",
       "      <th></th>\n",
       "      <th>e</th>\n",
       "      <th>Percentage</th>\n",
       "    </tr>\n",
       "    <tr>\n",
       "      <th>title</th>\n",
       "      <th></th>\n",
       "      <th></th>\n",
       "    </tr>\n",
       "  </thead>\n",
       "  <tbody>\n",
       "    <tr>\n",
       "      <th>Traffic: VEHICLE ACCIDENT -</th>\n",
       "      <td>19525</td>\n",
       "      <td>22.552439</td>\n",
       "    </tr>\n",
       "    <tr>\n",
       "      <th>Traffic: DISABLED VEHICLE -</th>\n",
       "      <td>5764</td>\n",
       "      <td>6.657734</td>\n",
       "    </tr>\n",
       "    <tr>\n",
       "      <th>Fire: FIRE ALARM</th>\n",
       "      <td>5134</td>\n",
       "      <td>5.930050</td>\n",
       "    </tr>\n",
       "    <tr>\n",
       "      <th>EMS: RESPIRATORY EMERGENCY</th>\n",
       "      <td>4810</td>\n",
       "      <td>5.555812</td>\n",
       "    </tr>\n",
       "    <tr>\n",
       "      <th>EMS: CARDIAC EMERGENCY</th>\n",
       "      <td>4686</td>\n",
       "      <td>5.412585</td>\n",
       "    </tr>\n",
       "    <tr>\n",
       "      <th>...</th>\n",
       "      <td>...</td>\n",
       "      <td>...</td>\n",
       "    </tr>\n",
       "    <tr>\n",
       "      <th>EMS: DEBRIS/FLUIDS ON HIGHWAY</th>\n",
       "      <td>1</td>\n",
       "      <td>0.001155</td>\n",
       "    </tr>\n",
       "    <tr>\n",
       "      <th>EMS: PLANE CRASH</th>\n",
       "      <td>1</td>\n",
       "      <td>0.001155</td>\n",
       "    </tr>\n",
       "    <tr>\n",
       "      <th>Fire: UNCONSCIOUS SUBJECT</th>\n",
       "      <td>1</td>\n",
       "      <td>0.001155</td>\n",
       "    </tr>\n",
       "    <tr>\n",
       "      <th>Fire: SYNCOPAL EPISODE</th>\n",
       "      <td>1</td>\n",
       "      <td>0.001155</td>\n",
       "    </tr>\n",
       "    <tr>\n",
       "      <th>Fire: PLANE CRASH</th>\n",
       "      <td>1</td>\n",
       "      <td>0.001155</td>\n",
       "    </tr>\n",
       "  </tbody>\n",
       "</table>\n",
       "<p>107 rows × 2 columns</p>\n",
       "</div>"
      ],
      "text/plain": [
       "                                   e  Percentage\n",
       "title                                           \n",
       "Traffic: VEHICLE ACCIDENT -    19525   22.552439\n",
       "Traffic: DISABLED VEHICLE -     5764    6.657734\n",
       "Fire: FIRE ALARM                5134    5.930050\n",
       "EMS: RESPIRATORY EMERGENCY      4810    5.555812\n",
       "EMS: CARDIAC EMERGENCY          4686    5.412585\n",
       "...                              ...         ...\n",
       "EMS: DEBRIS/FLUIDS ON HIGHWAY      1    0.001155\n",
       "EMS: PLANE CRASH                   1    0.001155\n",
       "Fire: UNCONSCIOUS SUBJECT          1    0.001155\n",
       "Fire: SYNCOPAL EPISODE             1    0.001155\n",
       "Fire: PLANE CRASH                  1    0.001155\n",
       "\n",
       "[107 rows x 2 columns]"
      ]
     },
     "execution_count": 15,
     "metadata": {},
     "output_type": "execute_result"
    }
   ],
   "source": [
    "sorted_title['Percentage'] = (sorted_title.e/sorted_title.e.sum())*100\n",
    "sorted_title"
   ]
  },
  {
   "cell_type": "code",
   "execution_count": 16,
   "id": "46656a0f",
   "metadata": {},
   "outputs": [
    {
     "data": {
      "text/html": [
       "<div>\n",
       "<style scoped>\n",
       "    .dataframe tbody tr th:only-of-type {\n",
       "        vertical-align: middle;\n",
       "    }\n",
       "\n",
       "    .dataframe tbody tr th {\n",
       "        vertical-align: top;\n",
       "    }\n",
       "\n",
       "    .dataframe thead th {\n",
       "        text-align: right;\n",
       "    }\n",
       "</style>\n",
       "<table border=\"1\" class=\"dataframe\">\n",
       "  <thead>\n",
       "    <tr style=\"text-align: right;\">\n",
       "      <th></th>\n",
       "      <th>e</th>\n",
       "    </tr>\n",
       "  </thead>\n",
       "  <tbody>\n",
       "    <tr>\n",
       "      <th>count</th>\n",
       "      <td>107.000000</td>\n",
       "    </tr>\n",
       "    <tr>\n",
       "      <th>mean</th>\n",
       "      <td>809.121495</td>\n",
       "    </tr>\n",
       "    <tr>\n",
       "      <th>std</th>\n",
       "      <td>2155.384043</td>\n",
       "    </tr>\n",
       "    <tr>\n",
       "      <th>min</th>\n",
       "      <td>1.000000</td>\n",
       "    </tr>\n",
       "    <tr>\n",
       "      <th>25%</th>\n",
       "      <td>12.000000</td>\n",
       "    </tr>\n",
       "    <tr>\n",
       "      <th>50%</th>\n",
       "      <td>91.000000</td>\n",
       "    </tr>\n",
       "    <tr>\n",
       "      <th>75%</th>\n",
       "      <td>758.500000</td>\n",
       "    </tr>\n",
       "    <tr>\n",
       "      <th>max</th>\n",
       "      <td>19525.000000</td>\n",
       "    </tr>\n",
       "  </tbody>\n",
       "</table>\n",
       "</div>"
      ],
      "text/plain": [
       "                  e\n",
       "count    107.000000\n",
       "mean     809.121495\n",
       "std     2155.384043\n",
       "min        1.000000\n",
       "25%       12.000000\n",
       "50%       91.000000\n",
       "75%      758.500000\n",
       "max    19525.000000"
      ]
     },
     "execution_count": 16,
     "metadata": {},
     "output_type": "execute_result"
    }
   ],
   "source": [
    "title.describe()"
   ]
  },
  {
   "cell_type": "code",
   "execution_count": 17,
   "id": "f3859415",
   "metadata": {},
   "outputs": [],
   "source": [
    "# Grouping the emergency calls by the address\n",
    "addr = data.groupby('addr').sum()\n",
    "sorted_addr = addr.e.sort_values(ascending = False)\n",
    "sorted_addr = pd.DataFrame(sorted_addr)"
   ]
  },
  {
   "cell_type": "code",
   "execution_count": 18,
   "id": "e916d897",
   "metadata": {},
   "outputs": [
    {
     "data": {
      "text/html": [
       "<div>\n",
       "<style scoped>\n",
       "    .dataframe tbody tr th:only-of-type {\n",
       "        vertical-align: middle;\n",
       "    }\n",
       "\n",
       "    .dataframe tbody tr th {\n",
       "        vertical-align: top;\n",
       "    }\n",
       "\n",
       "    .dataframe thead th {\n",
       "        text-align: right;\n",
       "    }\n",
       "</style>\n",
       "<table border=\"1\" class=\"dataframe\">\n",
       "  <thead>\n",
       "    <tr style=\"text-align: right;\">\n",
       "      <th></th>\n",
       "      <th>e</th>\n",
       "      <th>Percentage</th>\n",
       "    </tr>\n",
       "    <tr>\n",
       "      <th>addr</th>\n",
       "      <th></th>\n",
       "      <th></th>\n",
       "    </tr>\n",
       "  </thead>\n",
       "  <tbody>\n",
       "    <tr>\n",
       "      <th>SHANNONDELL DR &amp; SHANNONDELL BLVD</th>\n",
       "      <td>938</td>\n",
       "      <td>1.083441</td>\n",
       "    </tr>\n",
       "    <tr>\n",
       "      <th>MAIN ST &amp; OLD SUMNEYTOWN PIKE</th>\n",
       "      <td>390</td>\n",
       "      <td>0.450471</td>\n",
       "    </tr>\n",
       "    <tr>\n",
       "      <th>THE FAIRWAY  &amp; RYDAL RD</th>\n",
       "      <td>260</td>\n",
       "      <td>0.300314</td>\n",
       "    </tr>\n",
       "    <tr>\n",
       "      <th>GULPH RD &amp; KIRK AVE</th>\n",
       "      <td>235</td>\n",
       "      <td>0.271438</td>\n",
       "    </tr>\n",
       "    <tr>\n",
       "      <th>EVERGREEN RD &amp; W LIGHTCAP RD</th>\n",
       "      <td>232</td>\n",
       "      <td>0.267973</td>\n",
       "    </tr>\n",
       "    <tr>\n",
       "      <th>...</th>\n",
       "      <td>...</td>\n",
       "      <td>...</td>\n",
       "    </tr>\n",
       "    <tr>\n",
       "      <th>MEADOW LN</th>\n",
       "      <td>1</td>\n",
       "      <td>0.001155</td>\n",
       "    </tr>\n",
       "    <tr>\n",
       "      <th>MEADOW LN &amp; COLONIAL DR</th>\n",
       "      <td>1</td>\n",
       "      <td>0.001155</td>\n",
       "    </tr>\n",
       "    <tr>\n",
       "      <th>MEADOW LN &amp; RED BARN LN</th>\n",
       "      <td>1</td>\n",
       "      <td>0.001155</td>\n",
       "    </tr>\n",
       "    <tr>\n",
       "      <th>MEADOW LN &amp; WENDOVER DR</th>\n",
       "      <td>1</td>\n",
       "      <td>0.001155</td>\n",
       "    </tr>\n",
       "    <tr>\n",
       "      <th>LINDEN LN &amp; SYCAMORE AVE</th>\n",
       "      <td>1</td>\n",
       "      <td>0.001155</td>\n",
       "    </tr>\n",
       "  </tbody>\n",
       "</table>\n",
       "<p>19759 rows × 2 columns</p>\n",
       "</div>"
      ],
      "text/plain": [
       "                                     e  Percentage\n",
       "addr                                              \n",
       "SHANNONDELL DR & SHANNONDELL BLVD  938    1.083441\n",
       "MAIN ST & OLD SUMNEYTOWN PIKE      390    0.450471\n",
       "THE FAIRWAY  & RYDAL RD            260    0.300314\n",
       "GULPH RD & KIRK AVE                235    0.271438\n",
       "EVERGREEN RD & W LIGHTCAP RD       232    0.267973\n",
       "...                                ...         ...\n",
       "MEADOW LN                            1    0.001155\n",
       "MEADOW LN & COLONIAL DR              1    0.001155\n",
       "MEADOW LN & RED BARN LN              1    0.001155\n",
       "MEADOW LN & WENDOVER DR              1    0.001155\n",
       "LINDEN LN & SYCAMORE AVE             1    0.001155\n",
       "\n",
       "[19759 rows x 2 columns]"
      ]
     },
     "execution_count": 18,
     "metadata": {},
     "output_type": "execute_result"
    }
   ],
   "source": [
    "sorted_addr['Percentage'] = (sorted_addr.e/sorted_addr.e.sum())*100\n",
    "sorted_addr"
   ]
  },
  {
   "cell_type": "code",
   "execution_count": 19,
   "id": "97d78252",
   "metadata": {},
   "outputs": [
    {
     "data": {
      "text/html": [
       "<div>\n",
       "<style scoped>\n",
       "    .dataframe tbody tr th:only-of-type {\n",
       "        vertical-align: middle;\n",
       "    }\n",
       "\n",
       "    .dataframe tbody tr th {\n",
       "        vertical-align: top;\n",
       "    }\n",
       "\n",
       "    .dataframe thead th {\n",
       "        text-align: right;\n",
       "    }\n",
       "</style>\n",
       "<table border=\"1\" class=\"dataframe\">\n",
       "  <thead>\n",
       "    <tr style=\"text-align: right;\">\n",
       "      <th></th>\n",
       "      <th>e</th>\n",
       "    </tr>\n",
       "  </thead>\n",
       "  <tbody>\n",
       "    <tr>\n",
       "      <th>count</th>\n",
       "      <td>19759.000000</td>\n",
       "    </tr>\n",
       "    <tr>\n",
       "      <th>mean</th>\n",
       "      <td>4.381598</td>\n",
       "    </tr>\n",
       "    <tr>\n",
       "      <th>std</th>\n",
       "      <td>12.410438</td>\n",
       "    </tr>\n",
       "    <tr>\n",
       "      <th>min</th>\n",
       "      <td>1.000000</td>\n",
       "    </tr>\n",
       "    <tr>\n",
       "      <th>25%</th>\n",
       "      <td>1.000000</td>\n",
       "    </tr>\n",
       "    <tr>\n",
       "      <th>50%</th>\n",
       "      <td>2.000000</td>\n",
       "    </tr>\n",
       "    <tr>\n",
       "      <th>75%</th>\n",
       "      <td>4.000000</td>\n",
       "    </tr>\n",
       "    <tr>\n",
       "      <th>max</th>\n",
       "      <td>938.000000</td>\n",
       "    </tr>\n",
       "  </tbody>\n",
       "</table>\n",
       "</div>"
      ],
      "text/plain": [
       "                  e\n",
       "count  19759.000000\n",
       "mean       4.381598\n",
       "std       12.410438\n",
       "min        1.000000\n",
       "25%        1.000000\n",
       "50%        2.000000\n",
       "75%        4.000000\n",
       "max      938.000000"
      ]
     },
     "execution_count": 19,
     "metadata": {},
     "output_type": "execute_result"
    }
   ],
   "source": [
    "addr.describe()"
   ]
  },
  {
   "cell_type": "code",
   "execution_count": 20,
   "id": "62a46a27",
   "metadata": {},
   "outputs": [],
   "source": [
    "# Grouping the emergency calls by the twp\n",
    "twp = data.groupby('twp').sum()\n",
    "sorted_twp = twp.e.sort_values(ascending = False)\n",
    "sorted_twp = pd.DataFrame(sorted_twp)"
   ]
  },
  {
   "cell_type": "code",
   "execution_count": 21,
   "id": "c1bf9e5d",
   "metadata": {},
   "outputs": [
    {
     "data": {
      "text/html": [
       "<div>\n",
       "<style scoped>\n",
       "    .dataframe tbody tr th:only-of-type {\n",
       "        vertical-align: middle;\n",
       "    }\n",
       "\n",
       "    .dataframe tbody tr th {\n",
       "        vertical-align: top;\n",
       "    }\n",
       "\n",
       "    .dataframe thead th {\n",
       "        text-align: right;\n",
       "    }\n",
       "</style>\n",
       "<table border=\"1\" class=\"dataframe\">\n",
       "  <thead>\n",
       "    <tr style=\"text-align: right;\">\n",
       "      <th></th>\n",
       "      <th>e</th>\n",
       "      <th>Percentage</th>\n",
       "    </tr>\n",
       "    <tr>\n",
       "      <th>twp</th>\n",
       "      <th></th>\n",
       "      <th></th>\n",
       "    </tr>\n",
       "  </thead>\n",
       "  <tbody>\n",
       "    <tr>\n",
       "      <th>LOWER MERION</th>\n",
       "      <td>7202</td>\n",
       "      <td>8.318703</td>\n",
       "    </tr>\n",
       "    <tr>\n",
       "      <th>ABINGTON</th>\n",
       "      <td>5675</td>\n",
       "      <td>6.554934</td>\n",
       "    </tr>\n",
       "    <tr>\n",
       "      <th>NORRISTOWN</th>\n",
       "      <td>5610</td>\n",
       "      <td>6.479856</td>\n",
       "    </tr>\n",
       "    <tr>\n",
       "      <th>POTTSTOWN</th>\n",
       "      <td>4029</td>\n",
       "      <td>4.653715</td>\n",
       "    </tr>\n",
       "    <tr>\n",
       "      <th>CHELTENHAM</th>\n",
       "      <td>3942</td>\n",
       "      <td>4.553225</td>\n",
       "    </tr>\n",
       "    <tr>\n",
       "      <th>...</th>\n",
       "      <td>...</td>\n",
       "      <td>...</td>\n",
       "    </tr>\n",
       "    <tr>\n",
       "      <th>BRYN ATHYN</th>\n",
       "      <td>161</td>\n",
       "      <td>0.185964</td>\n",
       "    </tr>\n",
       "    <tr>\n",
       "      <th>SALFORD</th>\n",
       "      <td>156</td>\n",
       "      <td>0.180189</td>\n",
       "    </tr>\n",
       "    <tr>\n",
       "      <th>GREEN LANE</th>\n",
       "      <td>50</td>\n",
       "      <td>0.057753</td>\n",
       "    </tr>\n",
       "    <tr>\n",
       "      <th>PHILA COUNTY</th>\n",
       "      <td>38</td>\n",
       "      <td>0.043892</td>\n",
       "    </tr>\n",
       "    <tr>\n",
       "      <th>LEHIGH COUNTY</th>\n",
       "      <td>21</td>\n",
       "      <td>0.024256</td>\n",
       "    </tr>\n",
       "  </tbody>\n",
       "</table>\n",
       "<p>67 rows × 2 columns</p>\n",
       "</div>"
      ],
      "text/plain": [
       "                  e  Percentage\n",
       "twp                            \n",
       "LOWER MERION   7202    8.318703\n",
       "ABINGTON       5675    6.554934\n",
       "NORRISTOWN     5610    6.479856\n",
       "POTTSTOWN      4029    4.653715\n",
       "CHELTENHAM     3942    4.553225\n",
       "...             ...         ...\n",
       "BRYN ATHYN      161    0.185964\n",
       "SALFORD         156    0.180189\n",
       "GREEN LANE       50    0.057753\n",
       "PHILA COUNTY     38    0.043892\n",
       "LEHIGH COUNTY    21    0.024256\n",
       "\n",
       "[67 rows x 2 columns]"
      ]
     },
     "execution_count": 21,
     "metadata": {},
     "output_type": "execute_result"
    }
   ],
   "source": [
    "sorted_twp['Percentage'] = (sorted_twp.e/sorted_twp.e.sum())*100\n",
    "sorted_twp"
   ]
  },
  {
   "cell_type": "code",
   "execution_count": 22,
   "id": "c47c79a4",
   "metadata": {},
   "outputs": [
    {
     "data": {
      "text/html": [
       "<div>\n",
       "<style scoped>\n",
       "    .dataframe tbody tr th:only-of-type {\n",
       "        vertical-align: middle;\n",
       "    }\n",
       "\n",
       "    .dataframe tbody tr th {\n",
       "        vertical-align: top;\n",
       "    }\n",
       "\n",
       "    .dataframe thead th {\n",
       "        text-align: right;\n",
       "    }\n",
       "</style>\n",
       "<table border=\"1\" class=\"dataframe\">\n",
       "  <thead>\n",
       "    <tr style=\"text-align: right;\">\n",
       "      <th></th>\n",
       "      <th>e</th>\n",
       "    </tr>\n",
       "  </thead>\n",
       "  <tbody>\n",
       "    <tr>\n",
       "      <th>count</th>\n",
       "      <td>67.000000</td>\n",
       "    </tr>\n",
       "    <tr>\n",
       "      <th>mean</th>\n",
       "      <td>1292.179104</td>\n",
       "    </tr>\n",
       "    <tr>\n",
       "      <th>std</th>\n",
       "      <td>1464.944181</td>\n",
       "    </tr>\n",
       "    <tr>\n",
       "      <th>min</th>\n",
       "      <td>21.000000</td>\n",
       "    </tr>\n",
       "    <tr>\n",
       "      <th>25%</th>\n",
       "      <td>295.000000</td>\n",
       "    </tr>\n",
       "    <tr>\n",
       "      <th>50%</th>\n",
       "      <td>583.000000</td>\n",
       "    </tr>\n",
       "    <tr>\n",
       "      <th>75%</th>\n",
       "      <td>1787.000000</td>\n",
       "    </tr>\n",
       "    <tr>\n",
       "      <th>max</th>\n",
       "      <td>7202.000000</td>\n",
       "    </tr>\n",
       "  </tbody>\n",
       "</table>\n",
       "</div>"
      ],
      "text/plain": [
       "                 e\n",
       "count    67.000000\n",
       "mean   1292.179104\n",
       "std    1464.944181\n",
       "min      21.000000\n",
       "25%     295.000000\n",
       "50%     583.000000\n",
       "75%    1787.000000\n",
       "max    7202.000000"
      ]
     },
     "execution_count": 22,
     "metadata": {},
     "output_type": "execute_result"
    }
   ],
   "source": [
    "twp.describe()"
   ]
  },
  {
   "cell_type": "code",
   "execution_count": 23,
   "id": "eeb297bd",
   "metadata": {},
   "outputs": [],
   "source": [
    "# Grouping the emergency calls by the zip code\n",
    "Zip = data.groupby('zip').sum()\n",
    "sorted_Zip = Zip.e.sort_values(ascending = False)\n",
    "sorted_Zip = pd.DataFrame(sorted_Zip)"
   ]
  },
  {
   "cell_type": "code",
   "execution_count": 24,
   "id": "5e74047d",
   "metadata": {},
   "outputs": [
    {
     "data": {
      "text/html": [
       "<div>\n",
       "<style scoped>\n",
       "    .dataframe tbody tr th:only-of-type {\n",
       "        vertical-align: middle;\n",
       "    }\n",
       "\n",
       "    .dataframe tbody tr th {\n",
       "        vertical-align: top;\n",
       "    }\n",
       "\n",
       "    .dataframe thead th {\n",
       "        text-align: right;\n",
       "    }\n",
       "</style>\n",
       "<table border=\"1\" class=\"dataframe\">\n",
       "  <thead>\n",
       "    <tr style=\"text-align: right;\">\n",
       "      <th></th>\n",
       "      <th>e</th>\n",
       "      <th>Percentage</th>\n",
       "    </tr>\n",
       "    <tr>\n",
       "      <th>zip</th>\n",
       "      <th></th>\n",
       "      <th></th>\n",
       "    </tr>\n",
       "  </thead>\n",
       "  <tbody>\n",
       "    <tr>\n",
       "      <th>19401.0</th>\n",
       "      <td>6977</td>\n",
       "      <td>8.058815</td>\n",
       "    </tr>\n",
       "    <tr>\n",
       "      <th>19464.0</th>\n",
       "      <td>6641</td>\n",
       "      <td>7.670717</td>\n",
       "    </tr>\n",
       "    <tr>\n",
       "      <th>19403.0</th>\n",
       "      <td>4854</td>\n",
       "      <td>5.606635</td>\n",
       "    </tr>\n",
       "    <tr>\n",
       "      <th>19446.0</th>\n",
       "      <td>4745</td>\n",
       "      <td>5.480734</td>\n",
       "    </tr>\n",
       "    <tr>\n",
       "      <th>19406.0</th>\n",
       "      <td>3173</td>\n",
       "      <td>3.664988</td>\n",
       "    </tr>\n",
       "    <tr>\n",
       "      <th>...</th>\n",
       "      <td>...</td>\n",
       "      <td>...</td>\n",
       "    </tr>\n",
       "    <tr>\n",
       "      <th>19119.0</th>\n",
       "      <td>1</td>\n",
       "      <td>0.001155</td>\n",
       "    </tr>\n",
       "    <tr>\n",
       "      <th>19107.0</th>\n",
       "      <td>1</td>\n",
       "      <td>0.001155</td>\n",
       "    </tr>\n",
       "    <tr>\n",
       "      <th>19082.0</th>\n",
       "      <td>1</td>\n",
       "      <td>0.001155</td>\n",
       "    </tr>\n",
       "    <tr>\n",
       "      <th>36107.0</th>\n",
       "      <td>1</td>\n",
       "      <td>0.001155</td>\n",
       "    </tr>\n",
       "    <tr>\n",
       "      <th>77316.0</th>\n",
       "      <td>1</td>\n",
       "      <td>0.001155</td>\n",
       "    </tr>\n",
       "  </tbody>\n",
       "</table>\n",
       "<p>102 rows × 2 columns</p>\n",
       "</div>"
      ],
      "text/plain": [
       "            e  Percentage\n",
       "zip                      \n",
       "19401.0  6977    8.058815\n",
       "19464.0  6641    7.670717\n",
       "19403.0  4854    5.606635\n",
       "19446.0  4745    5.480734\n",
       "19406.0  3173    3.664988\n",
       "...       ...         ...\n",
       "19119.0     1    0.001155\n",
       "19107.0     1    0.001155\n",
       "19082.0     1    0.001155\n",
       "36107.0     1    0.001155\n",
       "77316.0     1    0.001155\n",
       "\n",
       "[102 rows x 2 columns]"
      ]
     },
     "execution_count": 24,
     "metadata": {},
     "output_type": "execute_result"
    }
   ],
   "source": [
    "sorted_Zip['Percentage'] = (sorted_Zip.e/sorted_Zip.e.sum())*100\n",
    "sorted_Zip"
   ]
  },
  {
   "cell_type": "code",
   "execution_count": 25,
   "id": "48efb9e7",
   "metadata": {},
   "outputs": [
    {
     "data": {
      "text/html": [
       "<div>\n",
       "<style scoped>\n",
       "    .dataframe tbody tr th:only-of-type {\n",
       "        vertical-align: middle;\n",
       "    }\n",
       "\n",
       "    .dataframe tbody tr th {\n",
       "        vertical-align: top;\n",
       "    }\n",
       "\n",
       "    .dataframe thead th {\n",
       "        text-align: right;\n",
       "    }\n",
       "</style>\n",
       "<table border=\"1\" class=\"dataframe\">\n",
       "  <thead>\n",
       "    <tr style=\"text-align: right;\">\n",
       "      <th></th>\n",
       "      <th>e</th>\n",
       "    </tr>\n",
       "  </thead>\n",
       "  <tbody>\n",
       "    <tr>\n",
       "      <th>count</th>\n",
       "      <td>102.000000</td>\n",
       "    </tr>\n",
       "    <tr>\n",
       "      <th>mean</th>\n",
       "      <td>848.784314</td>\n",
       "    </tr>\n",
       "    <tr>\n",
       "      <th>std</th>\n",
       "      <td>1337.635120</td>\n",
       "    </tr>\n",
       "    <tr>\n",
       "      <th>min</th>\n",
       "      <td>1.000000</td>\n",
       "    </tr>\n",
       "    <tr>\n",
       "      <th>25%</th>\n",
       "      <td>21.500000</td>\n",
       "    </tr>\n",
       "    <tr>\n",
       "      <th>50%</th>\n",
       "      <td>295.000000</td>\n",
       "    </tr>\n",
       "    <tr>\n",
       "      <th>75%</th>\n",
       "      <td>1109.750000</td>\n",
       "    </tr>\n",
       "    <tr>\n",
       "      <th>max</th>\n",
       "      <td>6977.000000</td>\n",
       "    </tr>\n",
       "  </tbody>\n",
       "</table>\n",
       "</div>"
      ],
      "text/plain": [
       "                 e\n",
       "count   102.000000\n",
       "mean    848.784314\n",
       "std    1337.635120\n",
       "min       1.000000\n",
       "25%      21.500000\n",
       "50%     295.000000\n",
       "75%    1109.750000\n",
       "max    6977.000000"
      ]
     },
     "execution_count": 25,
     "metadata": {},
     "output_type": "execute_result"
    }
   ],
   "source": [
    "Zip.describe()"
   ]
  },
  {
   "cell_type": "markdown",
   "id": "7cfc1dde",
   "metadata": {},
   "source": [
    "### Bar chart showing the call frequency regarding the title of the emergency"
   ]
  },
  {
   "cell_type": "code",
   "execution_count": 26,
   "id": "3307c779",
   "metadata": {},
   "outputs": [
    {
     "data": {
      "image/png": "[encoded data removed]",
      "text/plain": [
       "<Figure size 1224x576 with 1 Axes>"
      ]
     },
     "metadata": {
      "needs_background": "light"
     },
     "output_type": "display_data"
    }
   ],
   "source": [
    "plt.figure(figsize = (17,8));\n",
    "plt.bar(sorted_title[:54].index, sorted_title[:54].e);\n",
    "plt.xticks(rotation = 90);\n",
    "plt.xlabel('Title');\n",
    "plt.ylabel('Emergency Calls');"
   ]
  },
  {
   "cell_type": "code",
   "execution_count": 27,
   "id": "d56e3741",
   "metadata": {},
   "outputs": [
    {
     "data": {
      "image/png": "[encoded data removed]",
      "text/plain": [
       "<Figure size 1224x576 with 1 Axes>"
      ]
     },
     "metadata": {
      "needs_background": "light"
     },
     "output_type": "display_data"
    }
   ],
   "source": [
    "plt.figure(figsize = (17,8))\n",
    "plt.bar(sorted_title[54:108].index, sorted_title[54:108].e);\n",
    "plt.xticks(rotation = 90);\n",
    "plt.xlabel('Title');\n",
    "plt.ylabel('Emergency Calls');"
   ]
  },
  {
   "cell_type": "markdown",
   "id": "f9e8fa4d",
   "metadata": {},
   "source": [
    "### Bar chart showing the call frequency with respect to the twp"
   ]
  },
  {
   "cell_type": "code",
   "execution_count": 28,
   "id": "dfb8b374",
   "metadata": {},
   "outputs": [
    {
     "data": {
      "image/png": "[encoded data removed]",
      "text/plain": [
       "<Figure size 1224x576 with 1 Axes>"
      ]
     },
     "metadata": {
      "needs_background": "light"
     },
     "output_type": "display_data"
    }
   ],
   "source": [
    "plt.figure(figsize = (17,8))\n",
    "plt.bar(sorted_twp[:34].index, sorted_twp[:34].e);\n",
    "plt.xticks(rotation = 90);\n",
    "plt.xlabel('TWP');\n",
    "plt.ylabel('Emergency Calls');"
   ]
  },
  {
   "cell_type": "code",
   "execution_count": 29,
   "id": "b3886d24",
   "metadata": {},
   "outputs": [
    {
     "data": {
      "image/png": "[encoded data removed]",
      "text/plain": [
       "<Figure size 1224x576 with 1 Axes>"
      ]
     },
     "metadata": {
      "needs_background": "light"
     },
     "output_type": "display_data"
    }
   ],
   "source": [
    "plt.figure(figsize = (17,8))\n",
    "plt.bar(sorted_twp[34:68].index, sorted_twp[34:68].e);\n",
    "plt.xticks(rotation = 90);\n",
    "plt.xlabel('TWP');\n",
    "plt.ylabel('Emergency Calls');"
   ]
  },
  {
   "cell_type": "code",
   "execution_count": null,
   "id": "420f63f9",
   "metadata": {},
   "outputs": [],
   "source": []
  },
  {
   "cell_type": "code",
   "execution_count": null,
   "id": "8936fd1a",
   "metadata": {},
   "outputs": [],
   "source": []
  },
  {
   "cell_type": "code",
   "execution_count": null,
   "id": "6e7ac0f0",
   "metadata": {},
   "outputs": [],
   "source": []
  },
  {
   "cell_type": "code",
   "execution_count": null,
   "id": "8e479218",
   "metadata": {},
   "outputs": [],
   "source": []
  },
  {
   "cell_type": "code",
   "execution_count": null,
   "id": "039feb02",
   "metadata": {},
   "outputs": [],
   "source": []
  }
 ],
 "metadata": {
  "kernelspec": {
   "display_name": "Python 3 (ipykernel)",
   "language": "python",
   "name": "python3"
  },
  "language_info": {
   "codemirror_mode": {
    "name": "ipython",
    "version": 3
   },
   "file_extension": ".py",
   "mimetype": "text/x-python",
   "name": "python",
   "nbconvert_exporter": "python",
   "pygments_lexer": "ipython3",
   "version": "3.9.7"
  }
 },
 "nbformat": 4,
 "nbformat_minor": 5
}
